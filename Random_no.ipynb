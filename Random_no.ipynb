{
 "cells": [
  {
   "cell_type": "markdown",
   "id": "7802022b",
   "metadata": {},
   "source": [
    "# How Random number works?"
   ]
  },
  {
   "cell_type": "code",
   "execution_count": 8,
   "id": "11a3ec9f",
   "metadata": {},
   "outputs": [],
   "source": [
    "import time"
   ]
  },
  {
   "cell_type": "code",
   "execution_count": 33,
   "id": "dcc143d1",
   "metadata": {},
   "outputs": [],
   "source": [
    "def random_number():\n",
    "    from datetime import datetime\n",
    "    now = datetime.now() #current time\n",
    "    current_time = now.strftime(\"%H:%M:%S\") #time format of Hour-Minutes-Seconds\n",
    "    current_time=current_time.split(':')\n",
    "    hour=int(current_time[0])\n",
    "    minutes=int(current_time[1])\n",
    "    seconds=int(current_time[2])\n",
    "    milliseconds=hour*60*60*1000+minutes*60*1000+seconds*1000\n",
    "    #total milliseconds are equal to the number of milliseconds in 1hour+number of milliseconds\n",
    "    #in minutes + number of milliseconds in seconds\n",
    "    random_number=(282589933%7)*milliseconds%11 \n",
    "    return random_number\n"
   ]
  },
  {
   "cell_type": "code",
   "execution_count": 27,
   "id": "8ca1760a",
   "metadata": {},
   "outputs": [
    {
     "data": {
      "text/plain": [
       "datetime.datetime(2022, 5, 20, 0, 8, 1, 939586)"
      ]
     },
     "execution_count": 27,
     "metadata": {},
     "output_type": "execute_result"
    }
   ],
   "source": [
    "from datetime import datetime\n",
    "now = datetime.now() #current time\n",
    "now"
   ]
  },
  {
   "cell_type": "code",
   "execution_count": 28,
   "id": "f0424737",
   "metadata": {},
   "outputs": [
    {
     "data": {
      "text/plain": [
       "['00', '08', '01']"
      ]
     },
     "execution_count": 28,
     "metadata": {},
     "output_type": "execute_result"
    }
   ],
   "source": [
    "current_time = now.strftime(\"%H:%M:%S\") #time format of Hour-Minutes-Seconds\n",
    "current_time=current_time.split(':')\n",
    "current_time"
   ]
  },
  {
   "cell_type": "code",
   "execution_count": 29,
   "id": "f1f78754",
   "metadata": {},
   "outputs": [
    {
     "data": {
      "text/plain": [
       "1"
      ]
     },
     "execution_count": 29,
     "metadata": {},
     "output_type": "execute_result"
    }
   ],
   "source": [
    "hour=int(current_time[0])\n",
    "minutes=int(current_time[1])\n",
    "seconds=int(current_time[2])\n",
    "seconds"
   ]
  },
  {
   "cell_type": "code",
   "execution_count": null,
   "id": "54bd8bf5",
   "metadata": {},
   "outputs": [],
   "source": [
    "# 1s--->1000ms"
   ]
  },
  {
   "cell_type": "code",
   "execution_count": 30,
   "id": "ede55f60",
   "metadata": {},
   "outputs": [
    {
     "data": {
      "text/plain": [
       "481000"
      ]
     },
     "execution_count": 30,
     "metadata": {},
     "output_type": "execute_result"
    }
   ],
   "source": [
    "milliseconds=hour*60*60*1000+minutes*60*1000+seconds*1000\n",
    "milliseconds"
   ]
  },
  {
   "cell_type": "code",
   "execution_count": 31,
   "id": "ea43c9b5",
   "metadata": {},
   "outputs": [
    {
     "data": {
      "text/plain": [
       "9"
      ]
     },
     "execution_count": 31,
     "metadata": {},
     "output_type": "execute_result"
    }
   ],
   "source": [
    "random_number=(282589933%7)*milliseconds%11\n",
    "random_number\n",
    "#282589933 is a prime number"
   ]
  },
  {
   "cell_type": "code",
   "execution_count": null,
   "id": "f2cb330b",
   "metadata": {},
   "outputs": [],
   "source": [
    "random_number()"
   ]
  },
  {
   "cell_type": "code",
   "execution_count": 34,
   "id": "abe298eb",
   "metadata": {},
   "outputs": [
    {
     "name": "stdout",
     "output_type": "stream",
     "text": [
      "My random no----- 2\n",
      "My random no----- 7\n",
      "My random no----- 1\n",
      "My random no----- 6\n",
      "My random no----- 0\n",
      "My random no----- 5\n",
      "My random no----- 10\n",
      "My random no----- 4\n",
      "My random no----- 9\n",
      "My random no----- 3\n",
      "My random no----- 8\n",
      "My random no----- 2\n",
      "My random no----- 7\n",
      "My random no----- 1\n",
      "My random no----- 6\n",
      "My random no----- 0\n",
      "My random no----- 5\n",
      "My random no----- 10\n",
      "My random no----- 4\n"
     ]
    }
   ],
   "source": [
    "for i in range(1,20):\n",
    "    time.sleep(2)#\n",
    "    print(\"My random no-----\",random_number())"
   ]
  },
  {
   "cell_type": "code",
   "execution_count": null,
   "id": "92703666",
   "metadata": {},
   "outputs": [],
   "source": []
  }
 ],
 "metadata": {
  "kernelspec": {
   "display_name": "Python 3 (ipykernel)",
   "language": "python",
   "name": "python3"
  },
  "language_info": {
   "codemirror_mode": {
    "name": "ipython",
    "version": 3
   },
   "file_extension": ".py",
   "mimetype": "text/x-python",
   "name": "python",
   "nbconvert_exporter": "python",
   "pygments_lexer": "ipython3",
   "version": "3.8.10"
  }
 },
 "nbformat": 4,
 "nbformat_minor": 5
}
